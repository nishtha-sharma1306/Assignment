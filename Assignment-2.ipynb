{
 "cells": [
  {
   "cell_type": "markdown",
   "id": "ac6624fd-da21-41cd-b39e-2f457ef38de7",
   "metadata": {},
   "source": [
    "Q1. How do you comment code in Python? What are the different types of comments?"
   ]
  },
  {
   "cell_type": "markdown",
   "id": "8ddf5981-a466-47d5-bfaa-53655661c18b",
   "metadata": {},
   "source": [
    "Comments in python are the lines of code that are ignored by the interpreter during the execution of the program. It gives more information about the code and provides readability and lets the user understand the code more easily.\n",
    "\n",
    "There are three types of comments in python:\n",
    "1) Single line comments\n",
    "2) Multiline comments\n",
    "3) Docstring comments\n"
   ]
  },
  {
   "cell_type": "markdown",
   "id": "84d4142a-9336-4ede-bae1-2b03b69181e4",
   "metadata": {},
   "source": [
    "1) Single line comment starts with a hashtag symbol(#) and lasts till the end of the line."
   ]
  },
  {
   "cell_type": "code",
   "execution_count": 1,
   "id": "7b60ece7-e323-4e9b-8b69-d447b69da8a0",
   "metadata": {},
   "outputs": [
    {
     "name": "stdout",
     "output_type": "stream",
     "text": [
      "Nishtha Sharma\n"
     ]
    }
   ],
   "source": [
    "#This is a single line comment and I will print my name below\n",
    "print(\"Nishtha Sharma\")"
   ]
  },
  {
   "cell_type": "markdown",
   "id": "f394cf60-05ee-4966-b62b-a2df3a5e7b93",
   "metadata": {},
   "source": [
    "2) Multiline comments- Python does not provide a way to write multiple line of comments but we can use multiple hashtag symbols in each line separately and wirte comments in each line by starting it with #."
   ]
  },
  {
   "cell_type": "code",
   "execution_count": 2,
   "id": "b413e9f5-d275-40f7-81d8-efa7a400d3b9",
   "metadata": {},
   "outputs": [
    {
     "name": "stdout",
     "output_type": "stream",
     "text": [
      "Nishtha Sharma\n"
     ]
    }
   ],
   "source": [
    "#This is an example of multiline comments\n",
    "#And i will print my name below\n",
    "print(\"Nishtha Sharma\")"
   ]
  },
  {
   "cell_type": "markdown",
   "id": "f90ddf2c-daf2-4b57-a238-9019b0baf924",
   "metadata": {},
   "source": [
    "3) Docstring comment- These are also used to write multiple line comments it starts and ends with triple quotes either single quotes or double(\"\"\" \"\"\" or ''' ''')"
   ]
  },
  {
   "cell_type": "code",
   "execution_count": 3,
   "id": "ca35f47f-e33a-43dd-839a-f557468f3cc3",
   "metadata": {},
   "outputs": [
    {
     "name": "stdout",
     "output_type": "stream",
     "text": [
      " Welcome to my document\n"
     ]
    }
   ],
   "source": [
    "\"\"\"hello my name is nishtha and this is a comment\"\"\"\n",
    "'''i am in srm university'''\n",
    "print(\" Welcome to my document\")"
   ]
  },
  {
   "cell_type": "markdown",
   "id": "1fffe73d-974c-4bd2-af46-3aca9a6fa5af",
   "metadata": {},
   "source": [
    "Q2. What are variables in Python? How do you declare and assign values to variables?"
   ]
  },
  {
   "cell_type": "markdown",
   "id": "cf2285c4-8356-4a5f-b45d-fe27044ed5cc",
   "metadata": {},
   "source": [
    "Python Variables are memory spaces that hold information, such as numbers or text, that the Python Code can later use to perform tasks like mathematical operations like addition, subtraction, multiplication or division. We can also perform string operations like append.\n",
    "\n",
    "Some rules to declare variables are:\n",
    "1. it must start with a letter or the underscore character\n",
    "2. a variable name cannot start with a number\n",
    "3. variable names are case sensitive\n",
    "4. variable name can only contain alpha-numeric characters and underscore\n",
    "5. a variable name cannot be a pyhon keyword\n",
    "\n",
    "We can assign variable name in the following way:\n",
    "variable name = value\n",
    "\n",
    "We can directly assign numeric values whereas while assigning the string values we need to put then in double quotes."
   ]
  },
  {
   "cell_type": "markdown",
   "id": "db9325d2-08be-4cac-89e1-5f50d0c060a3",
   "metadata": {},
   "source": [
    "Q3. How do you convert one data type to another in Python?"
   ]
  },
  {
   "cell_type": "markdown",
   "id": "73ae022c-96d8-4c3e-b75c-50ecc2ef8402",
   "metadata": {},
   "source": [
    "We can convert one data type to another by type conversion or type casting.\n",
    "There are two types of type conversions:\n",
    "1) Implicit type conversion- Python sometimes automatically converts one data type to another, this is known as implicit type conversion.\n",
    "2) Explicit type conversion- When users manually convert one data type to another, they do so by explicit type conversion.\n"
   ]
  },
  {
   "cell_type": "code",
   "execution_count": 14,
   "id": "b54cf559-3f23-42e0-84b3-34cb07d996bd",
   "metadata": {},
   "outputs": [
    {
     "name": "stdout",
     "output_type": "stream",
     "text": [
      "<class 'float'>\n"
     ]
    }
   ],
   "source": [
    "# IMPLICIT TYPE CONVERSION\n",
    "\n",
    "a=12        #integer data type\n",
    "b=4.76      #float data type\n",
    "c=a+b\n",
    "print(type(c)) #result is float data type"
   ]
  },
  {
   "cell_type": "code",
   "execution_count": 15,
   "id": "2fcd6f02-6621-43a0-8522-c1c7ba034a10",
   "metadata": {},
   "outputs": [
    {
     "name": "stdout",
     "output_type": "stream",
     "text": [
      "<class 'int'>\n"
     ]
    }
   ],
   "source": [
    "# EXPLICIT TYPE CONVERSION\n",
    "\n",
    "a=\"20\"        #string data type\n",
    "b=10          #integer data type\n",
    "a=int(a)      #a is changed from string to integer\n",
    "c=a+b\n",
    "print(type(c)) #result is integer data type"
   ]
  },
  {
   "cell_type": "markdown",
   "id": "662db5e3-fd78-4ff0-b56f-efe69e7f2bcd",
   "metadata": {},
   "source": [
    "Q4. How do you write and execute a Python script from the command line?"
   ]
  },
  {
   "cell_type": "markdown",
   "id": "48cc4343-875f-49f1-ae7f-3d278c8b7868",
   "metadata": {},
   "source": [
    "We can write and execute a python script from the command line:\n",
    "\n",
    "1) Open any text editor of your choice like notepad.\n",
    "2)Write the following code:\n",
    "     #!/usr/bin/env python3\n",
    "\n",
    "     print('Hello World!')\n",
    "3) Save the file in your working directory with the name hello.py.\n",
    "4) Open command prompt and just wite the name of the file and then press enter. \n",
    "5) The program will execute and the output (Hello World!) will be shown on the screen."
   ]
  },
  {
   "cell_type": "markdown",
   "id": "f8a10e86-718f-4c6a-b27a-34e9e6dad6c1",
   "metadata": {},
   "source": [
    "Q5. Given a list my_list = [1, 2, 3, 4, 5], write the code to slice the list and obtain the sub-list [2, 3]."
   ]
  },
  {
   "cell_type": "code",
   "execution_count": 16,
   "id": "545e879f-b2f8-4228-b99a-8e4fbc5f637d",
   "metadata": {},
   "outputs": [
    {
     "name": "stdout",
     "output_type": "stream",
     "text": [
      "[2, 3]\n"
     ]
    }
   ],
   "source": [
    "my_list=[1,2,3,4,5]\n",
    "print(my_list[1:3])"
   ]
  },
  {
   "cell_type": "markdown",
   "id": "28c60f5f-e78a-4639-92b5-c79e6bafe9e8",
   "metadata": {},
   "source": [
    "Q6. What is a complex number in mathematics, and how is it represented in Python?"
   ]
  },
  {
   "cell_type": "markdown",
   "id": "60240155-6f9b-48fd-a9e3-575479755d40",
   "metadata": {},
   "source": [
    "Complex numbers are created from two real numbers. You can create it directly or you can use the complex function. It is written in the form of (x + yj) where x and y are real numbers and j is an imaginary number which is the square root of -1.\n",
    "In pyhton, it can be represented as follows:\n",
    "complex(real,imaginary)"
   ]
  },
  {
   "cell_type": "code",
   "execution_count": 17,
   "id": "03a487ac-cc1d-496c-870f-0c5aa3a6dcae",
   "metadata": {},
   "outputs": [
    {
     "data": {
      "text/plain": [
       "(2+5j)"
      ]
     },
     "execution_count": 17,
     "metadata": {},
     "output_type": "execute_result"
    }
   ],
   "source": [
    "complex(2,5)"
   ]
  },
  {
   "cell_type": "markdown",
   "id": "22b9bded-69f2-4eb9-aa34-544a6d1a4d1f",
   "metadata": {},
   "source": [
    "Q7. What is the correct way to declare a variable named age and assign the value 25 to it?"
   ]
  },
  {
   "cell_type": "code",
   "execution_count": 18,
   "id": "73905236-1166-4358-93d8-342ef52cc554",
   "metadata": {},
   "outputs": [],
   "source": [
    "age=25"
   ]
  },
  {
   "cell_type": "markdown",
   "id": "5a9c0af5-faf1-4436-9354-605e3b206ee1",
   "metadata": {},
   "source": [
    "Q8. Declare a variable named price and assign the value 9.99 to it. What data type does this variable\n",
    "belong to?"
   ]
  },
  {
   "cell_type": "code",
   "execution_count": 20,
   "id": "edadd988-65d7-414a-a975-e3fd6b02881f",
   "metadata": {},
   "outputs": [
    {
     "name": "stdout",
     "output_type": "stream",
     "text": [
      "<class 'float'>\n"
     ]
    }
   ],
   "source": [
    "price=9.99              #data type is float\n",
    "print(type(price))"
   ]
  },
  {
   "cell_type": "markdown",
   "id": "e77a2e07-00af-4036-8289-ee672247a01a",
   "metadata": {},
   "source": [
    "Q9. Create a variable named name and assign your full name to it as a string. How would you print the\n",
    "value of this variable?"
   ]
  },
  {
   "cell_type": "code",
   "execution_count": 23,
   "id": "04b44157-6cf2-476f-9410-5b9275f45611",
   "metadata": {},
   "outputs": [
    {
     "name": "stdout",
     "output_type": "stream",
     "text": [
      "Nishtha Sharma\n"
     ]
    }
   ],
   "source": [
    "name=\"Nishtha Sharma\"\n",
    "print(name)"
   ]
  },
  {
   "cell_type": "markdown",
   "id": "fdebcf0e-13f1-481f-ac69-caaaad038f20",
   "metadata": {},
   "source": [
    "Q10. Given the string \"Hello, World!\", extract the substring \"World\"."
   ]
  },
  {
   "cell_type": "code",
   "execution_count": 26,
   "id": "53898cf9-d8ca-406b-a3d0-95dc25b93cfe",
   "metadata": {},
   "outputs": [
    {
     "name": "stdout",
     "output_type": "stream",
     "text": [
      "World\n"
     ]
    }
   ],
   "source": [
    "a=\"Hello World!\"\n",
    "print(a[6:11])"
   ]
  },
  {
   "cell_type": "markdown",
   "id": "69118c66-ec2b-41bf-9714-e20218f2de7a",
   "metadata": {},
   "source": [
    "Q11. Create a variable named \"is_student\" and assign it a boolean value indicating whether you are\n",
    "currently a student or not."
   ]
  },
  {
   "cell_type": "code",
   "execution_count": 30,
   "id": "248771eb-4fb0-4642-93a7-e1236dfe13bb",
   "metadata": {},
   "outputs": [
    {
     "name": "stdout",
     "output_type": "stream",
     "text": [
      "False\n"
     ]
    }
   ],
   "source": [
    "is_student=False\n",
    "print(is_student)"
   ]
  }
 ],
 "metadata": {
  "kernelspec": {
   "display_name": "Python 3 (ipykernel)",
   "language": "python",
   "name": "python3"
  },
  "language_info": {
   "codemirror_mode": {
    "name": "ipython",
    "version": 3
   },
   "file_extension": ".py",
   "mimetype": "text/x-python",
   "name": "python",
   "nbconvert_exporter": "python",
   "pygments_lexer": "ipython3",
   "version": "3.10.8"
  }
 },
 "nbformat": 4,
 "nbformat_minor": 5
}
